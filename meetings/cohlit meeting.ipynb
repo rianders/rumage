{
 "cells": [
  {
   "cell_type": "markdown",
   "metadata": {},
   "source": [
    "#COHLit Meeting\n",
    "* Project plannig process GRID\n",
    " * Italian VR\n",
    "  * staffing\n",
    " * UICC AR\n",
    "* VR AR lab at Makerspace\n",
    "* VR/AR Showcase \n",
    "* Jupyter notebook\n",
    "* The move\n",
    "* Leaving Amazon\n",
    "\n",
    "\n"
   ]
  },
  {
   "cell_type": "code",
   "execution_count": null,
   "metadata": {
    "collapsed": true
   },
   "outputs": [],
   "source": []
  }
 ],
 "metadata": {
  "kernelspec": {
   "display_name": "Python 3",
   "language": "python",
   "name": "python3"
  },
  "language_info": {
   "codemirror_mode": {
    "name": "ipython",
    "version": 3
   },
   "file_extension": ".py",
   "mimetype": "text/x-python",
   "name": "python",
   "nbconvert_exporter": "python",
   "pygments_lexer": "ipython3",
   "version": "3.6.0"
  }
 },
 "nbformat": 4,
 "nbformat_minor": 2
}

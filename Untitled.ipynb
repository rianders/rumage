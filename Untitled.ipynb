{
 "cells": [
  {
   "cell_type": "markdown",
   "metadata": {},
   "source": [
    "# Color Rainbow Ramp"
   ]
  },
  {
   "cell_type": "code",
   "execution_count": 2,
   "metadata": {},
   "outputs": [
    {
     "name": "stdout",
     "output_type": "stream",
     "text": [
      "0\n",
      "1\n",
      "2\n",
      "3\n",
      "4\n",
      "5\n",
      "6\n"
     ]
    }
   ],
   "source": [
    "#How many major colors?\n",
    "#ROYGBIV = 7\n",
    "\n",
    "for ii in (range(7)):\n",
    "    print (ii)\n",
    "    \n",
    "    "
   ]
  },
  {
   "cell_type": "code",
   "execution_count": 3,
   "metadata": {},
   "outputs": [
    {
     "name": "stdout",
     "output_type": "stream",
     "text": [
      "0.0\n",
      "0.14285714285714285\n",
      "0.2857142857142857\n",
      "0.42857142857142855\n",
      "0.5714285714285714\n",
      "0.7142857142857143\n",
      "0.8571428571428571\n"
     ]
    }
   ],
   "source": [
    "#Increments:\n",
    "\n",
    "for ii in (range(7)):\n",
    "    print (ii/7)\n",
    "    "
   ]
  },
  {
   "cell_type": "code",
   "execution_count": 8,
   "metadata": {},
   "outputs": [
    {
     "name": "stdout",
     "output_type": "stream",
     "text": [
      "0\n",
      "0.16666666666666666\n",
      "0.3333333333333333\n",
      "0.5\n",
      "0.6666666666666666\n",
      "0.8333333333333333\n",
      "0.9999999999999999\n"
     ]
    }
   ],
   "source": [
    "#I want 6 even space between colors\n",
    "divAmt = 1/6\n",
    "curVal = 0;\n",
    "\n",
    "for ii in (range(7)):\n",
    "    print (curVal)\n",
    "    curVal += divAmt\n",
    "    "
   ]
  },
  {
   "cell_type": "code",
   "execution_count": null,
   "metadata": {
    "collapsed": true
   },
   "outputs": [],
   "source": []
  }
 ],
 "metadata": {
  "kernelspec": {
   "display_name": "Python 3",
   "language": "python",
   "name": "python3"
  },
  "language_info": {
   "codemirror_mode": {
    "name": "ipython",
    "version": 3
   },
   "file_extension": ".py",
   "mimetype": "text/x-python",
   "name": "python",
   "nbconvert_exporter": "python",
   "pygments_lexer": "ipython3",
   "version": "3.6.1"
  }
 },
 "nbformat": 4,
 "nbformat_minor": 2
}

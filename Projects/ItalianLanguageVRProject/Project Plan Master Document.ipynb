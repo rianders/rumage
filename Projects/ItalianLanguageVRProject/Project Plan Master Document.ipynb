{
 "cells": [
  {
   "cell_type": "markdown",
   "metadata": {},
   "source": [
    "# Project Planning Master Document\n",
    "\n",
    "## Project Name: Italian Language VR Travel and Language Game\n",
    "\n",
    "Team Assigned: GRID\n",
    "Project ???: Rick Andersonn\n",
    "Project Manager: Jeniffer Obando\n",
    "\n",
    "\n",
    "\n",
    "\n"
   ]
  },
  {
   "cell_type": "markdown",
   "metadata": {
    "collapsed": true
   },
   "source": [
    "### Project Description\n",
    "\n",
    "The Italian Language VR Travel and Language game will use a virtual environment that is accessible from mobile and web devices that will enable a student to practice the language skills being taught in a begining Italian class.  The student will virtually travel to Itally and be challenged with the common issues that a visitor to the country would have.  Like land at the Leonard Da Vinci Airport and be challenged to navigate the environment and get the their hotel room. There would be two play modes. Indivual play and practice, and a class version that is an enhanvment to in person or online classes for Italian Language Learning."
   ]
  },
  {
   "cell_type": "markdown",
   "metadata": {},
   "source": [
    "### Project Purpose\n",
    "\n",
    "The purpose  of the project is to get the students practicing critical language skills outside of the class room. The scenes in the game match those of common experiences of travelers to the country. The student could track their own progress and the instructor can track the classes progress. Then in a later phase there would be a study to show that this technique increases engagement and improves the learning outcome for the course."
   ]
  },
  {
   "cell_type": "markdown",
   "metadata": {},
   "source": [
    "### Business Case\n",
    "\n",
    "This kind of practice of game based learning can solve and issue locally at Rutgers University, but the business case is much wider. Individuals traveling to a country can orient themselves to the new country and language as a stand alone product. With the instructor/class tracking features it would be useful not just the Italian Department at Rutges University but also any language department that is trying to enhance and improve the learning experience for their students as well. Currently, their isn't a product that does this in the same way as the approached adopted here.\n"
   ]
  },
  {
   "cell_type": "markdown",
   "metadata": {},
   "source": [
    "### Assumptions\n",
    "\n",
    "* The game structure would be created early on. \n",
    "* Then each scene would be developed at a time.\n",
    " * Two scenes first year\n",
    " * Two scenes second year\n",
    " * One scene third year\n",
    "* GRID will have the resources to start and complete the project\n",
    "\n"
   ]
  },
  {
   "cell_type": "markdown",
   "metadata": {},
   "source": [
    "### Constraints\n",
    "\n",
    "* Can full time resources be garnered?\n",
    "* When would shared resources be avaialble?\n"
   ]
  },
  {
   "cell_type": "markdown",
   "metadata": {},
   "source": [
    "### Risks\n",
    "\n",
    "* Shared resources not available when needed.\n",
    "* There can be unexpected techbology issues.\n",
    "* \n"
   ]
  },
  {
   "cell_type": "markdown",
   "metadata": {},
   "source": [
    "### Project Deliverables\n",
    "\n",
    "* Mobile game for Android/iPhone devices\n",
    "* Web based game\n",
    "* Game logic integrated accross all platforms\n",
    "* 5 Completed scenes that integrate into the entiore game\n",
    "* Data collection for usage monitoring and improvement\n",
    "* Reward system for players\n"
   ]
  },
  {
   "cell_type": "markdown",
   "metadata": {},
   "source": [
    "### Project Milestones\n",
    "* Game framework\n",
    "* Scene 1\n",
    "* Scene 2\n",
    "* Scene 3\n",
    "* Scene 4\n",
    "* Scene 5\n"
   ]
  },
  {
   "cell_type": "markdown",
   "metadata": {},
   "source": [
    "### Project Manager\n",
    "\n",
    "* Instructional Design\n",
    "* Project Manager"
   ]
  },
  {
   "cell_type": "markdown",
   "metadata": {},
   "source": [
    "### Project Roles and Responsibilities\n",
    "\n",
    "* Project Manager\n",
    " * Project health, adjust time, and determine if resources and the plan are still on track\n",
    " \n",
    "* Instructional Designer\n",
    " * Ensures that all the learning objectives are integrated and accomplised via the game\n",
    "* Designer\n",
    " * Design look and menus\n",
    " * Combine art and instructional design goals\n",
    " * Detailed storyboard of game\n",
    " * Level design\n",
    "* Artist\n",
    " * Initial Story board and art assetts for entire game\n",
    " * Scene sketch\n",
    " * Game sketch\n",
    "* Programmer\n",
    " * Game Logic\n",
    " * Data collection\n",
    " * Scene interactions\n",
    "* Writer\n",
    " * The script for the game, the scenes, and player communication\n",
    "\n",
    "\n",
    "\n"
   ]
  },
  {
   "cell_type": "markdown",
   "metadata": {},
   "source": [
    "### Project Life Cycle and Tools\n",
    "\n",
    "We will be using an agile interitive development process.  The goal is to get a prototype up and build around it with constant and improvement from all stake holders. "
   ]
  },
  {
   "cell_type": "markdown",
   "metadata": {},
   "source": [
    "\n",
    "### Authorization\n",
    "\n",
    "Is this project approved? [yes/no] date?\n",
    "Approved By Stakeholders:\n",
    "Antonius Bittman [yes/no]\n",
    "Rick Anderson [yes/no]\n",
    "ITaCS [yes/no]\n",
    "Jeniffer Obando [yes/no]\n"
   ]
  },
  {
   "cell_type": "markdown",
   "metadata": {},
   "source": []
  }
 ],
 "metadata": {
  "kernelspec": {
   "display_name": "Python 3",
   "language": "python",
   "name": "python3"
  },
  "language_info": {
   "codemirror_mode": {
    "name": "ipython",
    "version": 3
   },
   "file_extension": ".py",
   "mimetype": "text/x-python",
   "name": "python",
   "nbconvert_exporter": "python",
   "pygments_lexer": "ipython3",
   "version": "3.6.1"
  }
 },
 "nbformat": 4,
 "nbformat_minor": 2
}

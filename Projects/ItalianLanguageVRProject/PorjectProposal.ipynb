{
 "cells": [
  {
   "cell_type": "markdown",
   "metadata": {},
   "source": [
    "#Project Proposal\n",
    "Project Name:\n",
    "\n",
    "Statement of Problem\n",
    "* Three examples\n",
    "* Potential alternatiives\n",
    "\n",
    "Solution:\n",
    "* Three solution examples\n",
    "* ex. Desired user experience\n",
    "* Product functionality\n",
    "\n",
    " \n",
    "Target Groups:\n",
    "* User needs\n",
    "* Kinds of users\n",
    "* Use cases\n",
    " \n",
    "\n",
    "Unique Value:\n",
    "* Statement of why this is the appropriate solution\n",
    "* Differentiates from other products\n",
    "\n",
    "Metrics:\n",
    "* Measures to determine goal has been met\n",
    "* Health of project\n",
    "* Risk/Reward measurement\n",
    " \n",
    "Cost Structure (Product):\n",
    "* people\n",
    "* servies\n",
    "* equipment\n",
    "\n",
    "Revenue Stream (Market):\n",
    "* life time vale\n",
    "* Total value\n",
    "* Total estimated cost\n"
   ]
  },
  {
   "cell_type": "code",
   "execution_count": null,
   "metadata": {
    "collapsed": true
   },
   "outputs": [],
   "source": []
  }
 ],
 "metadata": {
  "kernelspec": {
   "display_name": "Python 3",
   "language": "python",
   "name": "python3"
  },
  "language_info": {
   "codemirror_mode": {
    "name": "ipython",
    "version": 3
   },
   "file_extension": ".py",
   "mimetype": "text/x-python",
   "name": "python",
   "nbconvert_exporter": "python",
   "pygments_lexer": "ipython3",
   "version": "3.6.1"
  }
 },
 "nbformat": 4,
 "nbformat_minor": 2
}
